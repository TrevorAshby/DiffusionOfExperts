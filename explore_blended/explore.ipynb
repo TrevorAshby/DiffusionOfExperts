{
 "cells": [
  {
   "cell_type": "code",
   "execution_count": null,
   "metadata": {},
   "outputs": [],
   "source": [
    "import torch"
   ]
  },
  {
   "cell_type": "code",
   "execution_count": null,
   "metadata": {},
   "outputs": [],
   "source": [
    "# load each finetuned U-Net\n",
    "\n",
    "# clothes\n",
    "\n",
    "# photograph\n",
    "\n",
    "# pixelart"
   ]
  },
  {
   "cell_type": "code",
   "execution_count": null,
   "metadata": {},
   "outputs": [],
   "source": [
    "# sequential/transformer layer that takes in 4 inputs\n",
    "\n",
    "# layer norm\n",
    "\n",
    "# during forward concatenate U-Net outs with prompt embedding"
   ]
  }
 ],
 "metadata": {
  "language_info": {
   "name": "python"
  }
 },
 "nbformat": 4,
 "nbformat_minor": 2
}
